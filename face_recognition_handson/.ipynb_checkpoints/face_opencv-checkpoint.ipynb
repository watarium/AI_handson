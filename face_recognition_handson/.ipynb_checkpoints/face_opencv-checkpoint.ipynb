{
 "cells": [
  {
   "cell_type": "code",
   "execution_count": null,
   "metadata": {},
   "outputs": [],
   "source": [
    "import cv2 as cv\n",
    "import os"
   ]
  },
  {
   "cell_type": "code",
   "execution_count": null,
   "metadata": {},
   "outputs": [],
   "source": [
    "image_path = './downloads/face_name'"
   ]
  },
  {
   "cell_type": "code",
   "execution_count": null,
   "metadata": {},
   "outputs": [],
   "source": [
    "cascade_path = \"./opencv/data/haarcascades/haarcascade_frontalface_alt.xml\"\n",
    "\n",
    "def Detect_face(file_name):\n",
    "    global image_path\n",
    "\n",
    "    # Load image file\n",
    "    image = cv.imread(image_path + '/' + file_name)\n",
    "    if(image is None):\n",
    "        print('Can not open the image file')\n",
    "        return\n",
    "\n",
    "    image_color = cv.cvtColor(image, cv.IMREAD_COLOR)\n",
    "\n",
    "    # Get the feature of cascade classifier\n",
    "    cascade = cv.CascadeClassifier(cascade_path)\n",
    "\n",
    "    # face detection execution\n",
    "    facerect = cascade.detectMultiScale(image_color, scaleFactor=1.2, minNeighbors=2, minSize=(10, 10))\n",
    "\n",
    "    # create directory\n",
    "    if len(facerect) == 0:\n",
    "        print('Can not detect face')\n",
    "        return\n",
    "\n",
    "    if len(facerect) > 0:\n",
    "        if image_path.endswith('/'):\n",
    "            image_path = image_path[:-1]\n",
    "        path = os.path.splitext(image_path)\n",
    "        dir_path = path[0] + '_face'\n",
    "        if not os.path.isdir(dir_path):\n",
    "            os.mkdir(dir_path)\n",
    "        print('data saved in ' + dir_path)\n",
    "    i = 0;\n",
    "\n",
    "    for rect in facerect:\n",
    "        # save face data\n",
    "        x = rect[0]\n",
    "        y = rect[1]\n",
    "        width = rect[2]\n",
    "        height = rect[3]\n",
    "        dst = image[y:y+height, x:x+width]\n",
    "        new_image_path = dir_path + '/' + file_name + str(i) + '.jpg';\n",
    "        cv.imwrite(new_image_path, dst)\n",
    "        i += 1\n",
    "\n",
    "file_list = os.listdir(image_path)\n",
    "for file_name in file_list:\n",
    "    if file_name.endswith(('jpeg','jpg','png','JPEG','JPG','PNG')):\n",
    "        Detect_face(file_name)"
   ]
  },
  {
   "cell_type": "code",
   "execution_count": null,
   "metadata": {},
   "outputs": [],
   "source": []
  }
 ],
 "metadata": {
  "kernelspec": {
   "display_name": "Python 3",
   "language": "python",
   "name": "python3"
  },
  "language_info": {
   "codemirror_mode": {
    "name": "ipython",
    "version": 3
   },
   "file_extension": ".py",
   "mimetype": "text/x-python",
   "name": "python",
   "nbconvert_exporter": "python",
   "pygments_lexer": "ipython3",
   "version": "3.6.5"
  }
 },
 "nbformat": 4,
 "nbformat_minor": 2
}
